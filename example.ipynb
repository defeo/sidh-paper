{
 "cells": [
  {
   "cell_type": "markdown",
   "metadata": {},
   "source": [
    "# Example from Section 7.1\n",
    "\n",
    "This script verifies the example calculation from Section 7.1 of the paper."
   ]
  },
  {
   "cell_type": "code",
   "execution_count": 1,
   "metadata": {
    "collapsed": true
   },
   "outputs": [],
   "source": [
    "%load_ext sage"
   ]
  },
  {
   "cell_type": "code",
   "execution_count": 2,
   "metadata": {
    "collapsed": false
   },
   "outputs": [],
   "source": [
    "lA, lB = 2, 3\n",
    "eA, eB = 63, 41\n",
    "f = 11\n",
    "p = lA**eA * lB**eB * f - 1\n",
    "assert p.is_prime()\n",
    "k.<I> = GF(p)[]\n",
    "K.<i> = GF(p^2, modulus=x^2+1)\n",
    "E = EllipticCurve(K, [1,0])"
   ]
  },
  {
   "cell_type": "code",
   "execution_count": 3,
   "metadata": {
    "collapsed": false
   },
   "outputs": [],
   "source": [
    "PA = E(2374093068336250774107936421407893885897*i + 2524646701852396349308425328218203569693,\n",
    "       1944869260414574206229153243510104781725*i + 1309099413211767078055232768460483417201)\n",
    "PB = E(1556716033657530876728525059284431761206*i + 1747407329595165241335131647929866065215,\n",
    "       3456956202852028835529419995475915388483*i + 1975912874247458572654720717155755005566)\n",
    "QA = E(-PA[0], i*PA[1])\n",
    "QB = E(-PB[0], i*PB[1])\n",
    "assert (lA**eA)*PA == 0 and (lA**(eA-1))*PA != 0\n",
    "assert (lB**eB)*PB == 0 and (lB**(eB-1))*PB != 0\n",
    "assert PA.weil_pairing(QA, lA**eA).multiplicative_order() == lA**eA\n",
    "assert PB.weil_pairing(QB, lB**eB).multiplicative_order() == lB**eB"
   ]
  },
  {
   "cell_type": "code",
   "execution_count": 4,
   "metadata": {
    "collapsed": true
   },
   "outputs": [],
   "source": [
    "mA, nA = 2575042839726612324, 8801426132580632841\n",
    "mB, nB = 4558164392438856871, 20473135767366569910"
   ]
  },
  {
   "cell_type": "code",
   "execution_count": 5,
   "metadata": {
    "collapsed": true
   },
   "outputs": [],
   "source": [
    "def isogeny(E, l, e, R, P=None, Q=None):\n",
    "    '''\n",
    "    A very simple multiplication-based implementation of the SIDH isogeny evaluation procedure.\n",
    "    '''\n",
    "    if P is None:\n",
    "        P = E(0)\n",
    "    if Q is None:\n",
    "        Q = E(0)\n",
    "    x = E.base_field().polynomial_ring().gen()\n",
    "    for i in reversed(range(e)):\n",
    "        # Note: we could have written E.isogeny((l**i)*R), \n",
    "        # but Sage has a very slow path for this call.\n",
    "        phi = E.isogeny(x - ((l**i)*R)[0])\n",
    "        R, P, Q = phi(R), phi(P), phi(Q)\n",
    "        E = phi.codomain()\n",
    "    return E, P, Q"
   ]
  },
  {
   "cell_type": "code",
   "execution_count": 6,
   "metadata": {
    "collapsed": false
   },
   "outputs": [],
   "source": [
    "EA, phiPB, phiQB = isogeny(E, lA, eA, mA*PA + nA*QA, PB, QB)\n",
    "EB, phiPA, phiQA = isogeny(E, lB, eB, mB*PB + nB*QB, PA, QA)"
   ]
  },
  {
   "cell_type": "code",
   "execution_count": 7,
   "metadata": {
    "collapsed": false
   },
   "outputs": [
    {
     "data": {
      "text/plain": [
       "(Elliptic Curve defined by y^2 = x^3 + (2091501916950999574452721858321602927843*i+972553154200337776765767083789464639451)*x + (60807325160986644487193630766046650344*i+3169253022785676431514890095429104981618) over Finite Field in i of size 3700444163740528325594401040305817124863^2,\n",
       " (2721153471195827394362378332379257637181*i + 1539185109368098978725926479650078750338 : 366199921913220734051920293872875427784*i + 1834684100381216170047241224726703679853 : 1),\n",
       " (2047412214418904136059667026856740906824*i + 210410807644625609951128565227377730537 : 39839443313971822568423776004766862687*i + 93242671882050419679778826538960350511 : 1))"
      ]
     },
     "execution_count": 7,
     "metadata": {},
     "output_type": "execute_result"
    }
   ],
   "source": [
    "EA, phiPB, phiQB"
   ]
  },
  {
   "cell_type": "code",
   "execution_count": 8,
   "metadata": {
    "collapsed": false
   },
   "outputs": [
    {
     "data": {
      "text/plain": [
       "(Elliptic Curve defined by y^2 = x^3 + (613336589127545168753929747948723751445*i+1522892240764352004970989202275481325884)*x + (1751365643446878427298831224508754010925*i+514619434696964156988631199195423238937) over Finite Field in i of size 3700444163740528325594401040305817124863^2,\n",
       " (1840285667151684940152261485641077765166*i + 1205946128410465920445468025689008115483 : 3015693525350159684461695283215383069140*i + 1626164136473804366820814600761036680537 : 1),\n",
       " (1134287220707101080701212759958883254744*i + 2045900705277300793622003789178598520511 : 653462135239883274751711408898414405297*i + 33999787412505678391101800402560364101 : 1))"
      ]
     },
     "execution_count": 8,
     "metadata": {},
     "output_type": "execute_result"
    }
   ],
   "source": [
    "EB, phiPA, phiQA"
   ]
  },
  {
   "cell_type": "code",
   "execution_count": 9,
   "metadata": {
    "collapsed": true
   },
   "outputs": [],
   "source": [
    "EAB, _, _ = isogeny(EB, lA, eA, mA*phiPA + nA*phiQA)\n",
    "EBA, _, _ = isogeny(EA, lB, eB, mB*phiPB + nB*phiQB)"
   ]
  },
  {
   "cell_type": "code",
   "execution_count": 10,
   "metadata": {
    "collapsed": false
   },
   "outputs": [
    {
     "data": {
      "text/plain": [
       "1186454744475002430691715089880611825168*i + 519144330875457642568950846370688904962"
      ]
     },
     "execution_count": 10,
     "metadata": {},
     "output_type": "execute_result"
    }
   ],
   "source": [
    "assert EAB.j_invariant() == EBA.j_invariant()\n",
    "EAB.j_invariant()"
   ]
  },
  {
   "cell_type": "code",
   "execution_count": null,
   "metadata": {
    "collapsed": true
   },
   "outputs": [],
   "source": []
  }
 ],
 "metadata": {
  "kernelspec": {
   "display_name": "SageMath 7.2.beta3",
   "language": "",
   "name": "sagemath"
  },
  "language_info": {
   "codemirror_mode": {
    "name": "ipython",
    "version": 2
   },
   "file_extension": ".py",
   "mimetype": "text/x-python",
   "name": "python",
   "nbconvert_exporter": "python",
   "pygments_lexer": "ipython2",
   "version": "2.7.10"
  }
 },
 "nbformat": 4,
 "nbformat_minor": 0
}
